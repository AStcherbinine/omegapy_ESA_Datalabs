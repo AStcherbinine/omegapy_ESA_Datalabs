{
 "cells": [
  {
   "cell_type": "markdown",
   "id": "9f33a110-10a6-488a-bc53-49b052e35989",
   "metadata": {},
   "source": [
    "### Load the module"
   ]
  },
  {
   "cell_type": "code",
   "execution_count": 1,
   "id": "956d2aef-e0f0-4e33-b07a-3327a8c725b5",
   "metadata": {},
   "outputs": [],
   "source": [
    "import omegapy.omega_data as od\n",
    "import omegapy.omega_plots as op"
   ]
  },
  {
   "cell_type": "markdown",
   "id": "80d68e22-02b8-4bb0-9068-b5f3801d60e0",
   "metadata": {},
   "source": [
    "### Activate interactive Matplotlib backend"
   ]
  },
  {
   "cell_type": "code",
   "execution_count": 2,
   "id": "9feb3d73-15b0-4bcd-857c-d3d10e8bfbfd",
   "metadata": {},
   "outputs": [
    {
     "name": "stderr",
     "output_type": "stream",
     "text": [
      "Warning: Ignoring XDG_SESSION_TYPE=wayland on Gnome. Use QT_QPA_PLATFORM=wayland to run on Wayland anyway.\n",
      "QSocketNotifier: Can only be used with threads started with QThread\n"
     ]
    }
   ],
   "source": [
    "%matplotlib qt"
   ]
  },
  {
   "cell_type": "markdown",
   "id": "818f83a2-3719-49c5-8c5d-dc869ff3657a",
   "metadata": {},
   "source": [
    "### Set the paths for folders containing OMEGA files"
   ]
  },
  {
   "cell_type": "code",
   "execution_count": 3,
   "id": "6317938b-ae3d-440e-91cd-1c1d3e3a4796",
   "metadata": {},
   "outputs": [],
   "source": [
    "od.set_omega_bin_path(\"/home/astcherbinine/science/OMEGA/data/OMEGAdata/binaries/\")\n",
    "od.set_omega_py_path(\"/home/astcherbinine/science/OMEGA/data/OMEGAdata/\")"
   ]
  },
  {
   "cell_type": "markdown",
   "id": "9698bc80-80f0-4757-a499-f6cbba4ce5ec",
   "metadata": {},
   "source": [
    "### Load data and apply corrections"
   ]
  },
  {
   "cell_type": "code",
   "execution_count": 5,
   "id": "c13ed652-22e6-4579-ab35-efb41d32b996",
   "metadata": {},
   "outputs": [
    {
     "name": "stdout",
     "output_type": "stream",
     "text": [
      "\n",
      "\u001b[1mComputing OMEGA observation ORB0967_3\u001b[0m\n",
      "core:        128     352     596  cbyte:       2\n",
      "suffix:        1       7       0  sbyte:       4\n",
      "        0 or less IR:   173073\n",
      " negative pixels VIS:    12402\n",
      "anomalous pixels VIS:      100\n",
      "saturated pixels VIS:      100\n",
      "          spikes VIS:     3385\n",
      "\n",
      "\u001b[01;32m[done]\u001b[0mdata extraction and correction...\u001b[0m \n"
     ]
    },
    {
     "name": "stderr",
     "output_type": "stream",
     "text": [
      "Thermal & Atmospheric corrections: 100%|█████████████████████████| 76288/76288 [01:07<00:00, 1123.12it/s]\n"
     ]
    }
   ],
   "source": [
    "# Load the data cube\n",
    "omega0 = od.OMEGAdata('0967_3')\n",
    "# Apply thermal and atmospheric corrections\n",
    "omega = od.corr_therm_atm(omega0, npool=15)     # Adjust npool according to your system"
   ]
  },
  {
   "cell_type": "markdown",
   "id": "432996fb-1fa6-4b20-8d02-426690035104",
   "metadata": {},
   "source": [
    "### Compute the data mask"
   ]
  },
  {
   "cell_type": "code",
   "execution_count": 7,
   "id": "3ab63c8f-0cb8-42a0-b991-1d930eed5121",
   "metadata": {},
   "outputs": [],
   "source": [
    "data_mask = od.omega_mask(\n",
    "    omega, \n",
    "    hide_128=True, \n",
    "    emer_lim=10, \n",
    "    inci_lim=70, \n",
    "    tempc_lim=-194, \n",
    "    limsat_c=500\n",
    "    )"
   ]
  },
  {
   "cell_type": "markdown",
   "id": "eb4a69b5-e4d2-4594-af40-eff2e30e5603",
   "metadata": {},
   "source": [
    "### Display interactive reflectance map"
   ]
  },
  {
   "cell_type": "code",
   "execution_count": 8,
   "id": "7dea1307-8143-4333-b9cd-0480106caa7d",
   "metadata": {},
   "outputs": [],
   "source": [
    "op.show_omega_interactif_v2(\n",
    "    omega,\n",
    "    lam = 2.26,\n",
    "    mask = data_mask,\n",
    "    vmin = 0,\n",
    "    vmax = 0.5,\n",
    "    data = None,    # Can be used to replace the reflectance by an other pre-computed map\n",
    "    )"
   ]
  }
 ],
 "metadata": {
  "kernelspec": {
   "display_name": "Python 3 (ipykernel)",
   "language": "python",
   "name": "python3"
  },
  "language_info": {
   "codemirror_mode": {
    "name": "ipython",
    "version": 3
   },
   "file_extension": ".py",
   "mimetype": "text/x-python",
   "name": "python",
   "nbconvert_exporter": "python",
   "pygments_lexer": "ipython3",
   "version": "3.10.12"
  }
 },
 "nbformat": 4,
 "nbformat_minor": 5
}
